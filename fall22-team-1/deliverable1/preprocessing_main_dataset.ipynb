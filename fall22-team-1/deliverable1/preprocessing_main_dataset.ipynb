{
 "cells": [
  {
   "cell_type": "code",
   "execution_count": 21,
   "metadata": {},
   "outputs": [
    {
     "name": "stdout",
     "output_type": "stream",
     "text": [
      "Requirement already satisfied: geopy in /Users/chuf/opt/anaconda3/lib/python3.8/site-packages (2.2.0)\r\n",
      "Requirement already satisfied: geographiclib<2,>=1.49 in /Users/chuf/opt/anaconda3/lib/python3.8/site-packages (from geopy) (1.52)\r\n"
     ]
    }
   ],
   "source": [
    "!pip install geopy"
   ]
  },
  {
   "cell_type": "code",
   "execution_count": 22,
   "metadata": {},
   "outputs": [],
   "source": [
    "import pandas as pd\n",
    "from geopy.geocoders import Nominatim"
   ]
  },
  {
   "cell_type": "code",
   "execution_count": 23,
   "metadata": {},
   "outputs": [],
   "source": [
    "# setup geopy\n",
    "geolocator = Nominatim(user_agent=\"preprocessing_main_dataset\")"
   ]
  },
  {
   "cell_type": "code",
   "execution_count": 69,
   "metadata": {},
   "outputs": [],
   "source": [
    "def find_coordinates(df_row):\n",
    "    location = geolocator.geocode(df_row['ST_NUM']+df_row['ST_NAME'])\n",
    "    try:\n",
    "        return (location.latitude, location.longitude)\n",
    "    except:\n",
    "        return (pd.NA, pd.NA)"
   ]
  },
  {
   "cell_type": "code",
   "execution_count": 72,
   "metadata": {},
   "outputs": [],
   "source": [
    "# add coordinates to main dataset using geopy\n",
    "df = pd.read_csv('../data/main_dataset.csv')[:50]\n",
    "df['coordinates'] = df.apply(find_coordinates, axis=1)\n",
    "df.to_csv('../data/preprocessed_main_dataset.csv')"
   ]
  }
 ],
 "metadata": {
  "kernelspec": {
   "display_name": "Python 3",
   "language": "python",
   "name": "python3"
  },
  "language_info": {
   "codemirror_mode": {
    "name": "ipython",
    "version": 3
   },
   "file_extension": ".py",
   "mimetype": "text/x-python",
   "name": "python",
   "nbconvert_exporter": "python",
   "pygments_lexer": "ipython3",
   "version": "3.8.8"
  }
 },
 "nbformat": 4,
 "nbformat_minor": 2
}
