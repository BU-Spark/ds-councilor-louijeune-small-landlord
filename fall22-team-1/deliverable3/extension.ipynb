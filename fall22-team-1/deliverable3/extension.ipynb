{
 "cells": [
  {
   "cell_type": "code",
   "execution_count": 1,
   "metadata": {},
   "outputs": [],
   "source": [
    "# imports\n",
    "\n",
    "import pandas as pd"
   ]
  },
  {
   "cell_type": "code",
   "execution_count": 10,
   "metadata": {},
   "outputs": [
    {
     "name": "stdout",
     "output_type": "stream",
     "text": [
      "Index(['value', 'description', 'violation_sthigh', 'violation_suffix',\n",
      "       'violation_city', 'violation_zip', 'contact_addr1', 'contact_addr2',\n",
      "       'contact_city', 'contact_state', 'contact_zip'],\n",
      "      dtype='object')\n",
      "case_no                                             V259331\n",
      "status_dttm                             2015-09-21 09:01:48\n",
      "status                                               Closed\n",
      "code                                                 1025.1\n",
      "value                                                   NaN\n",
      "description                                Emergency Escape\n",
      "violation_stno                                           57\n",
      "violation_sthigh                                        NaN\n",
      "violation_street                                  Charlotte\n",
      "violation_suffix                                         ST\n",
      "violation_city                                   Dorchester\n",
      "violation_state                                          MA\n",
      "violation_zip                                         02121\n",
      "ward                                                     14\n",
      "contact_addr1                               57 CHARLOTTE ST\n",
      "contact_addr2                                           NaN\n",
      "contact_city                                    DORCHESTER,\n",
      "contact_state                                            MA\n",
      "contact_zip                                      02121-4001\n",
      "sam_id                                                29896\n",
      "latitude                                           42.29857\n",
      "longitude                                         -71.08417\n",
      "location            (42.29856999971836, -71.08417000161438)\n",
      "Name: 10000, dtype: object\n"
     ]
    }
   ],
   "source": [
    "# load dataset\n",
    "\n",
    "df = pd.read_csv('../data/property_violations.csv')\n",
    "\n",
    "def cols_with_na(df: pd.DataFrame):\n",
    "    df_count = df.count()\n",
    "    matching_cols = df_count < len(df.index)\n",
    "    matching_cols = matching_cols.loc[matching_cols == True]\n",
    "    print(matching_cols.keys())\n",
    "\n",
    "def num_na(df):\n",
    "    df_bools = pd.isna(df).any(axis=1)\n",
    "    df_cols_with_empty = df_bools[df_bools == True]\n",
    "    return len(df_cols_with_empty)\n",
    "\n",
    "cols_with_na(df)\n",
    "print(df.iloc[10000])"
   ]
  }
 ],
 "metadata": {
  "kernelspec": {
   "display_name": "Python 3.9.13 ('base')",
   "language": "python",
   "name": "python3"
  },
  "language_info": {
   "codemirror_mode": {
    "name": "ipython",
    "version": 3
   },
   "file_extension": ".py",
   "mimetype": "text/x-python",
   "name": "python",
   "nbconvert_exporter": "python",
   "pygments_lexer": "ipython3",
   "version": "3.9.13"
  },
  "orig_nbformat": 4,
  "vscode": {
   "interpreter": {
    "hash": "0b6a8cfaa2c6a90fcfea6029b90fed80bbe2ca0c12d7685ed318e43d55be7bd6"
   }
  }
 },
 "nbformat": 4,
 "nbformat_minor": 2
}
