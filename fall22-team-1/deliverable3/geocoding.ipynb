{
 "cells": [
  {
   "cell_type": "code",
   "execution_count": 2,
   "metadata": {},
   "outputs": [],
   "source": [
    "# open key\n",
    "\n",
    "f = open('secret.key')\n",
    "key = f.read()\n",
    "f.close()"
   ]
  },
  {
   "cell_type": "code",
   "execution_count": 9,
   "metadata": {},
   "outputs": [],
   "source": [
    "# load dataframe\n",
    "\n",
    "import pandas as pd\n",
    "import requests\n",
    "import json\n",
    "\n",
    "df = pd.read_csv('../data/main_dataset.csv')\n",
    "\n",
    "coords = {'progress': 0, 'coords': []}\n",
    "try:\n",
    "    f = open('check.txt')\n",
    "    coords = eval(f.read())\n",
    "    f.close()\n",
    "except FileNotFoundError:\n",
    "    coords = {'progress': 0, 'coords': []}\n",
    "\n",
    "t = len(df) // 200\n",
    "c = 0\n",
    "c_all = coords['progress']\n",
    "p = coords['progress'] // t"
   ]
  },
  {
   "cell_type": "code",
   "execution_count": 10,
   "metadata": {},
   "outputs": [
    {
     "name": "stdout",
     "output_type": "stream",
     "text": [
      "f22.5% done geocoding\n"
     ]
    },
    {
     "ename": "TypeError",
     "evalue": "write() argument must be str, not dict",
     "output_type": "error",
     "traceback": [
      "\u001b[0;31m---------------------------------------------------------------------------\u001b[0m",
      "\u001b[0;31mTypeError\u001b[0m                                 Traceback (most recent call last)",
      "\u001b[1;32m/Users/theto/Documents/School/Beyond/CS506/local_fork/ds-councilor-louijeune-small-landlord/fall22-team-1/deliverable3/geocoding.ipynb Cell 3\u001b[0m in \u001b[0;36m<cell line: 40>\u001b[0;34m()\u001b[0m\n\u001b[1;32m     <a href='vscode-notebook-cell:/Users/theto/Documents/School/Beyond/CS506/local_fork/ds-councilor-louijeune-small-landlord/fall22-team-1/deliverable3/geocoding.ipynb#W1sZmlsZQ%3D%3D?line=36'>37</a>\u001b[0m     c \u001b[39m+\u001b[39m\u001b[39m=\u001b[39m \u001b[39m1\u001b[39m\n\u001b[1;32m     <a href='vscode-notebook-cell:/Users/theto/Documents/School/Beyond/CS506/local_fork/ds-councilor-louijeune-small-landlord/fall22-team-1/deliverable3/geocoding.ipynb#W1sZmlsZQ%3D%3D?line=37'>38</a>\u001b[0m     c_all \u001b[39m+\u001b[39m\u001b[39m=\u001b[39m \u001b[39m1\u001b[39m\n\u001b[0;32m---> <a href='vscode-notebook-cell:/Users/theto/Documents/School/Beyond/CS506/local_fork/ds-councilor-louijeune-small-landlord/fall22-team-1/deliverable3/geocoding.ipynb#W1sZmlsZQ%3D%3D?line=39'>40</a>\u001b[0m df\u001b[39m.\u001b[39;49mastype(\u001b[39mstr\u001b[39;49m)\u001b[39m.\u001b[39;49miloc[coords[\u001b[39m'\u001b[39;49m\u001b[39mprogress\u001b[39;49m\u001b[39m'\u001b[39;49m]:]\u001b[39m.\u001b[39;49mapply(find_coordinates, axis\u001b[39m=\u001b[39;49m\u001b[39m1\u001b[39;49m)\n",
      "File \u001b[0;32m~/anaconda3/lib/python3.9/site-packages/pandas/core/frame.py:8848\u001b[0m, in \u001b[0;36mDataFrame.apply\u001b[0;34m(self, func, axis, raw, result_type, args, **kwargs)\u001b[0m\n\u001b[1;32m   8837\u001b[0m \u001b[39mfrom\u001b[39;00m \u001b[39mpandas\u001b[39;00m\u001b[39m.\u001b[39;00m\u001b[39mcore\u001b[39;00m\u001b[39m.\u001b[39;00m\u001b[39mapply\u001b[39;00m \u001b[39mimport\u001b[39;00m frame_apply\n\u001b[1;32m   8839\u001b[0m op \u001b[39m=\u001b[39m frame_apply(\n\u001b[1;32m   8840\u001b[0m     \u001b[39mself\u001b[39m,\n\u001b[1;32m   8841\u001b[0m     func\u001b[39m=\u001b[39mfunc,\n\u001b[0;32m   (...)\u001b[0m\n\u001b[1;32m   8846\u001b[0m     kwargs\u001b[39m=\u001b[39mkwargs,\n\u001b[1;32m   8847\u001b[0m )\n\u001b[0;32m-> 8848\u001b[0m \u001b[39mreturn\u001b[39;00m op\u001b[39m.\u001b[39;49mapply()\u001b[39m.\u001b[39m__finalize__(\u001b[39mself\u001b[39m, method\u001b[39m=\u001b[39m\u001b[39m\"\u001b[39m\u001b[39mapply\u001b[39m\u001b[39m\"\u001b[39m)\n",
      "File \u001b[0;32m~/anaconda3/lib/python3.9/site-packages/pandas/core/apply.py:733\u001b[0m, in \u001b[0;36mFrameApply.apply\u001b[0;34m(self)\u001b[0m\n\u001b[1;32m    730\u001b[0m \u001b[39melif\u001b[39;00m \u001b[39mself\u001b[39m\u001b[39m.\u001b[39mraw:\n\u001b[1;32m    731\u001b[0m     \u001b[39mreturn\u001b[39;00m \u001b[39mself\u001b[39m\u001b[39m.\u001b[39mapply_raw()\n\u001b[0;32m--> 733\u001b[0m \u001b[39mreturn\u001b[39;00m \u001b[39mself\u001b[39;49m\u001b[39m.\u001b[39;49mapply_standard()\n",
      "File \u001b[0;32m~/anaconda3/lib/python3.9/site-packages/pandas/core/apply.py:857\u001b[0m, in \u001b[0;36mFrameApply.apply_standard\u001b[0;34m(self)\u001b[0m\n\u001b[1;32m    856\u001b[0m \u001b[39mdef\u001b[39;00m \u001b[39mapply_standard\u001b[39m(\u001b[39mself\u001b[39m):\n\u001b[0;32m--> 857\u001b[0m     results, res_index \u001b[39m=\u001b[39m \u001b[39mself\u001b[39;49m\u001b[39m.\u001b[39;49mapply_series_generator()\n\u001b[1;32m    859\u001b[0m     \u001b[39m# wrap results\u001b[39;00m\n\u001b[1;32m    860\u001b[0m     \u001b[39mreturn\u001b[39;00m \u001b[39mself\u001b[39m\u001b[39m.\u001b[39mwrap_results(results, res_index)\n",
      "File \u001b[0;32m~/anaconda3/lib/python3.9/site-packages/pandas/core/apply.py:873\u001b[0m, in \u001b[0;36mFrameApply.apply_series_generator\u001b[0;34m(self)\u001b[0m\n\u001b[1;32m    870\u001b[0m \u001b[39mwith\u001b[39;00m option_context(\u001b[39m\"\u001b[39m\u001b[39mmode.chained_assignment\u001b[39m\u001b[39m\"\u001b[39m, \u001b[39mNone\u001b[39;00m):\n\u001b[1;32m    871\u001b[0m     \u001b[39mfor\u001b[39;00m i, v \u001b[39min\u001b[39;00m \u001b[39menumerate\u001b[39m(series_gen):\n\u001b[1;32m    872\u001b[0m         \u001b[39m# ignore SettingWithCopy here in case the user mutates\u001b[39;00m\n\u001b[0;32m--> 873\u001b[0m         results[i] \u001b[39m=\u001b[39m \u001b[39mself\u001b[39;49m\u001b[39m.\u001b[39;49mf(v)\n\u001b[1;32m    874\u001b[0m         \u001b[39mif\u001b[39;00m \u001b[39misinstance\u001b[39m(results[i], ABCSeries):\n\u001b[1;32m    875\u001b[0m             \u001b[39m# If we have a view on v, we need to make a copy because\u001b[39;00m\n\u001b[1;32m    876\u001b[0m             \u001b[39m#  series_generator will swap out the underlying data\u001b[39;00m\n\u001b[1;32m    877\u001b[0m             results[i] \u001b[39m=\u001b[39m results[i]\u001b[39m.\u001b[39mcopy(deep\u001b[39m=\u001b[39m\u001b[39mFalse\u001b[39;00m)\n",
      "\u001b[1;32m/Users/theto/Documents/School/Beyond/CS506/local_fork/ds-councilor-louijeune-small-landlord/fall22-team-1/deliverable3/geocoding.ipynb Cell 3\u001b[0m in \u001b[0;36mfind_coordinates\u001b[0;34m(df_row)\u001b[0m\n\u001b[1;32m     <a href='vscode-notebook-cell:/Users/theto/Documents/School/Beyond/CS506/local_fork/ds-councilor-louijeune-small-landlord/fall22-team-1/deliverable3/geocoding.ipynb#W1sZmlsZQ%3D%3D?line=10'>11</a>\u001b[0m coords[\u001b[39m'\u001b[39m\u001b[39mprogress\u001b[39m\u001b[39m'\u001b[39m] \u001b[39m=\u001b[39m c_all\n\u001b[1;32m     <a href='vscode-notebook-cell:/Users/theto/Documents/School/Beyond/CS506/local_fork/ds-councilor-louijeune-small-landlord/fall22-team-1/deliverable3/geocoding.ipynb#W1sZmlsZQ%3D%3D?line=11'>12</a>\u001b[0m f \u001b[39m=\u001b[39m \u001b[39mopen\u001b[39m(\u001b[39m'\u001b[39m\u001b[39mcheck.txt\u001b[39m\u001b[39m'\u001b[39m, \u001b[39m'\u001b[39m\u001b[39mw\u001b[39m\u001b[39m'\u001b[39m)\n\u001b[0;32m---> <a href='vscode-notebook-cell:/Users/theto/Documents/School/Beyond/CS506/local_fork/ds-councilor-louijeune-small-landlord/fall22-team-1/deliverable3/geocoding.ipynb#W1sZmlsZQ%3D%3D?line=12'>13</a>\u001b[0m f\u001b[39m.\u001b[39;49mwrite(coords)\n\u001b[1;32m     <a href='vscode-notebook-cell:/Users/theto/Documents/School/Beyond/CS506/local_fork/ds-councilor-louijeune-small-landlord/fall22-team-1/deliverable3/geocoding.ipynb#W1sZmlsZQ%3D%3D?line=13'>14</a>\u001b[0m f\u001b[39m.\u001b[39mclose()\n\u001b[1;32m     <a href='vscode-notebook-cell:/Users/theto/Documents/School/Beyond/CS506/local_fork/ds-councilor-louijeune-small-landlord/fall22-team-1/deliverable3/geocoding.ipynb#W1sZmlsZQ%3D%3D?line=14'>15</a>\u001b[0m c \u001b[39m=\u001b[39m \u001b[39m0\u001b[39m\n",
      "\u001b[0;31mTypeError\u001b[0m: write() argument must be str, not dict"
     ]
    }
   ],
   "source": [
    "def find_coordinates(df_row):\n",
    "    global t\n",
    "    global c\n",
    "    global p\n",
    "    global c_all\n",
    "    global coords\n",
    "    if c == t:\n",
    "        # checkpoint\n",
    "        p += 1\n",
    "        print(f\"f{p / 2}% done geocoding\")\n",
    "        coords['progress'] = c_all\n",
    "        f = open('check.txt', 'w')\n",
    "        f.write(str(coords))\n",
    "        f.close()\n",
    "        c = 0\n",
    "\n",
    "    addr = (df_row['ST_NUM']+' '+df_row['ST_NAME']+' '+df_row['CITY']+' '+df_row['ZIPCODE']).replace('\\n', '')\n",
    "    addr_nospace = addr.replace(' ', '%20')\n",
    "    ret = None\n",
    "    try:\n",
    "        res = requests.post('https://maps.googleapis.com/maps/api/geocode/json?address=' + addr_nospace + '&key=' + key)\n",
    "        res = res.json()\n",
    "    except Exception as e:\n",
    "        #print(\"Error\", e, \"while getting\", addr)\n",
    "        coords['coords'].append(('na', 'na'))\n",
    "        ret = ('na', 'na')\n",
    "    if res['status'] != 'OK':\n",
    "        #print(\"No location for\", addr)\n",
    "        coords['coords'].append(('na', 'na'))\n",
    "        ret = ('na', 'na')\n",
    "    else:\n",
    "        #print(\"Found location for\", addr)\n",
    "        lat = res['results'][0]['geometry']['location']['lat']\n",
    "        long = res['results'][0]['geometry']['location']['lng']\n",
    "        coords['coords'].append((lat, long))\n",
    "        ret = (lat, long)\n",
    "    c += 1\n",
    "    c_all += 1\n",
    "     \n",
    "df.astype(str).iloc[coords['progress']:].apply(find_coordinates, axis=1)"
   ]
  }
 ],
 "metadata": {
  "kernelspec": {
   "display_name": "Python 3.9.13 ('base')",
   "language": "python",
   "name": "python3"
  },
  "language_info": {
   "codemirror_mode": {
    "name": "ipython",
    "version": 3
   },
   "file_extension": ".py",
   "mimetype": "text/x-python",
   "name": "python",
   "nbconvert_exporter": "python",
   "pygments_lexer": "ipython3",
   "version": "3.9.13"
  },
  "orig_nbformat": 4,
  "vscode": {
   "interpreter": {
    "hash": "0b6a8cfaa2c6a90fcfea6029b90fed80bbe2ca0c12d7685ed318e43d55be7bd6"
   }
  }
 },
 "nbformat": 4,
 "nbformat_minor": 2
}
