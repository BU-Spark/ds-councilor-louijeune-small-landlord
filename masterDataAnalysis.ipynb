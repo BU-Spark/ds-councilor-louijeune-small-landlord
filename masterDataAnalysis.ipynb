{
 "cells": [
  {
   "cell_type": "code",
   "execution_count": 1,
   "metadata": {},
   "outputs": [],
   "source": [
    "import pandas as pd"
   ]
  },
  {
   "cell_type": "code",
   "execution_count": 12,
   "metadata": {},
   "outputs": [],
   "source": [
    "def toHtml(dfa):\n",
    "    html = dfa.to_html()\n",
    "\n",
    "    #write html to file\n",
    "    text_file = open(\"index.html\", \"w\")\n",
    "    text_file.write(html)\n",
    "    text_file.close()"
   ]
  },
  {
   "cell_type": "code",
   "execution_count": 2,
   "metadata": {},
   "outputs": [
    {
     "data": {
      "text/html": [
       "<div>\n",
       "<style scoped>\n",
       "    .dataframe tbody tr th:only-of-type {\n",
       "        vertical-align: middle;\n",
       "    }\n",
       "\n",
       "    .dataframe tbody tr th {\n",
       "        vertical-align: top;\n",
       "    }\n",
       "\n",
       "    .dataframe thead th {\n",
       "        text-align: right;\n",
       "    }\n",
       "</style>\n",
       "<table border=\"1\" class=\"dataframe\">\n",
       "  <thead>\n",
       "    <tr style=\"text-align: right;\">\n",
       "      <th></th>\n",
       "      <th>Unnamed: 0</th>\n",
       "      <th>PID</th>\n",
       "      <th>CM_ID</th>\n",
       "      <th>GIS_ID</th>\n",
       "      <th>ST_NUM</th>\n",
       "      <th>ST_NAME</th>\n",
       "      <th>UNIT_NUM</th>\n",
       "      <th>CITY</th>\n",
       "      <th>ZIPCODE</th>\n",
       "      <th>BLDG_SEQ</th>\n",
       "      <th>...</th>\n",
       "      <th>FIRE_PLACE</th>\n",
       "      <th>ORIENTATION</th>\n",
       "      <th>NUM_PARKING</th>\n",
       "      <th>PROP_VIEW</th>\n",
       "      <th>CORNER_UNIT</th>\n",
       "      <th>match</th>\n",
       "      <th>lookup</th>\n",
       "      <th>income_restricted_inv</th>\n",
       "      <th>existing_affordable_inv</th>\n",
       "      <th>Is_Affordable_Master</th>\n",
       "    </tr>\n",
       "  </thead>\n",
       "  <tbody>\n",
       "    <tr>\n",
       "      <th>0</th>\n",
       "      <td>0</td>\n",
       "      <td>100001000</td>\n",
       "      <td></td>\n",
       "      <td>100001000.0</td>\n",
       "      <td>104 A 104</td>\n",
       "      <td>PUTNAM ST</td>\n",
       "      <td>NaN</td>\n",
       "      <td>EAST BOSTON</td>\n",
       "      <td>2128</td>\n",
       "      <td>1.0</td>\n",
       "      <td>...</td>\n",
       "      <td>0</td>\n",
       "      <td>NaN</td>\n",
       "      <td>3</td>\n",
       "      <td>A - Average</td>\n",
       "      <td>NaN</td>\n",
       "      <td>104 A 104 PUTNAM ST EAST BOSTON</td>\n",
       "      <td>104 A 104 PUTNAM ST, EAST BOSTON, MA 02128</td>\n",
       "      <td>False</td>\n",
       "      <td>False</td>\n",
       "      <td>False</td>\n",
       "    </tr>\n",
       "    <tr>\n",
       "      <th>1</th>\n",
       "      <td>1</td>\n",
       "      <td>100002000</td>\n",
       "      <td></td>\n",
       "      <td>100002000.0</td>\n",
       "      <td>197</td>\n",
       "      <td>LEXINGTON ST</td>\n",
       "      <td>NaN</td>\n",
       "      <td>EAST BOSTON</td>\n",
       "      <td>2128</td>\n",
       "      <td>1.0</td>\n",
       "      <td>...</td>\n",
       "      <td>0</td>\n",
       "      <td>NaN</td>\n",
       "      <td>0</td>\n",
       "      <td>A - Average</td>\n",
       "      <td>NaN</td>\n",
       "      <td>197 LEXINGTON ST EAST BOSTON</td>\n",
       "      <td>197 LEXINGTON ST, EAST BOSTON, MA 02128</td>\n",
       "      <td>False</td>\n",
       "      <td>False</td>\n",
       "      <td>False</td>\n",
       "    </tr>\n",
       "    <tr>\n",
       "      <th>2</th>\n",
       "      <td>2</td>\n",
       "      <td>100003000</td>\n",
       "      <td></td>\n",
       "      <td>100003000.0</td>\n",
       "      <td>199</td>\n",
       "      <td>LEXINGTON ST</td>\n",
       "      <td>NaN</td>\n",
       "      <td>EAST BOSTON</td>\n",
       "      <td>2128</td>\n",
       "      <td>1.0</td>\n",
       "      <td>...</td>\n",
       "      <td>0</td>\n",
       "      <td>NaN</td>\n",
       "      <td>0</td>\n",
       "      <td>A - Average</td>\n",
       "      <td>NaN</td>\n",
       "      <td>199 LEXINGTON ST EAST BOSTON</td>\n",
       "      <td>199 LEXINGTON ST, EAST BOSTON, MA 02128</td>\n",
       "      <td>False</td>\n",
       "      <td>False</td>\n",
       "      <td>False</td>\n",
       "    </tr>\n",
       "    <tr>\n",
       "      <th>3</th>\n",
       "      <td>3</td>\n",
       "      <td>100004000</td>\n",
       "      <td></td>\n",
       "      <td>100004000.0</td>\n",
       "      <td>201</td>\n",
       "      <td>LEXINGTON ST</td>\n",
       "      <td>NaN</td>\n",
       "      <td>EAST BOSTON</td>\n",
       "      <td>2128</td>\n",
       "      <td>1.0</td>\n",
       "      <td>...</td>\n",
       "      <td>0</td>\n",
       "      <td>NaN</td>\n",
       "      <td>0</td>\n",
       "      <td>A - Average</td>\n",
       "      <td>NaN</td>\n",
       "      <td>201 LEXINGTON ST EAST BOSTON</td>\n",
       "      <td>201 LEXINGTON ST, EAST BOSTON, MA 02128</td>\n",
       "      <td>False</td>\n",
       "      <td>False</td>\n",
       "      <td>False</td>\n",
       "    </tr>\n",
       "    <tr>\n",
       "      <th>4</th>\n",
       "      <td>4</td>\n",
       "      <td>100005000</td>\n",
       "      <td></td>\n",
       "      <td>100005000.0</td>\n",
       "      <td>203</td>\n",
       "      <td>LEXINGTON ST</td>\n",
       "      <td>NaN</td>\n",
       "      <td>EAST BOSTON</td>\n",
       "      <td>2128</td>\n",
       "      <td>1.0</td>\n",
       "      <td>...</td>\n",
       "      <td>0</td>\n",
       "      <td>NaN</td>\n",
       "      <td>0</td>\n",
       "      <td>A - Average</td>\n",
       "      <td>NaN</td>\n",
       "      <td>203 LEXINGTON ST EAST BOSTON</td>\n",
       "      <td>203 LEXINGTON ST, EAST BOSTON, MA 02128</td>\n",
       "      <td>False</td>\n",
       "      <td>False</td>\n",
       "      <td>False</td>\n",
       "    </tr>\n",
       "  </tbody>\n",
       "</table>\n",
       "<p>5 rows × 70 columns</p>\n",
       "</div>"
      ],
      "text/plain": [
       "   Unnamed: 0        PID CM_ID       GIS_ID      ST_NUM       ST_NAME  \\\n",
       "0           0  100001000        100001000.0  104 A 104      PUTNAM ST   \n",
       "1           1  100002000        100002000.0       197    LEXINGTON ST   \n",
       "2           2  100003000        100003000.0       199    LEXINGTON ST   \n",
       "3           3  100004000        100004000.0       201    LEXINGTON ST   \n",
       "4           4  100005000        100005000.0       203    LEXINGTON ST   \n",
       "\n",
       "  UNIT_NUM         CITY  ZIPCODE  BLDG_SEQ  ...  FIRE_PLACE  ORIENTATION  \\\n",
       "0      NaN  EAST BOSTON     2128       1.0  ...           0          NaN   \n",
       "1      NaN  EAST BOSTON     2128       1.0  ...           0          NaN   \n",
       "2      NaN  EAST BOSTON     2128       1.0  ...           0          NaN   \n",
       "3      NaN  EAST BOSTON     2128       1.0  ...           0          NaN   \n",
       "4      NaN  EAST BOSTON     2128       1.0  ...           0          NaN   \n",
       "\n",
       "  NUM_PARKING    PROP_VIEW CORNER_UNIT                            match  \\\n",
       "0           3  A - Average         NaN  104 A 104 PUTNAM ST EAST BOSTON   \n",
       "1           0  A - Average         NaN     197 LEXINGTON ST EAST BOSTON   \n",
       "2           0  A - Average         NaN     199 LEXINGTON ST EAST BOSTON   \n",
       "3           0  A - Average         NaN     201 LEXINGTON ST EAST BOSTON   \n",
       "4           0  A - Average         NaN     203 LEXINGTON ST EAST BOSTON   \n",
       "\n",
       "                                       lookup income_restricted_inv  \\\n",
       "0  104 A 104 PUTNAM ST, EAST BOSTON, MA 02128                 False   \n",
       "1     197 LEXINGTON ST, EAST BOSTON, MA 02128                 False   \n",
       "2     199 LEXINGTON ST, EAST BOSTON, MA 02128                 False   \n",
       "3     201 LEXINGTON ST, EAST BOSTON, MA 02128                 False   \n",
       "4     203 LEXINGTON ST, EAST BOSTON, MA 02128                 False   \n",
       "\n",
       "  existing_affordable_inv Is_Affordable_Master  \n",
       "0                   False                False  \n",
       "1                   False                False  \n",
       "2                   False                False  \n",
       "3                   False                False  \n",
       "4                   False                False  \n",
       "\n",
       "[5 rows x 70 columns]"
      ]
     },
     "execution_count": 2,
     "metadata": {},
     "output_type": "execute_result"
    }
   ],
   "source": [
    "master = pd.read_csv('Is_Affordable_Master_Dataset.csv')\n",
    "master.head()"
   ]
  },
  {
   "cell_type": "code",
   "execution_count": 5,
   "metadata": {},
   "outputs": [
    {
     "data": {
      "text/plain": [
       "Unnamed: 0                 2579\n",
       "PID                        2579\n",
       "CM_ID                      2579\n",
       "GIS_ID                     2579\n",
       "ST_NUM                     2579\n",
       "                           ... \n",
       "match                      2579\n",
       "lookup                     2579\n",
       "income_restricted_inv      2579\n",
       "existing_affordable_inv    2579\n",
       "Is_Affordable_Master       2579\n",
       "Length: 70, dtype: int64"
      ]
     },
     "execution_count": 5,
     "metadata": {},
     "output_type": "execute_result"
    }
   ],
   "source": [
    "master[master['Is_Affordable_Master'] == True].count()"
   ]
  },
  {
   "cell_type": "code",
   "execution_count": 9,
   "metadata": {},
   "outputs": [
    {
     "data": {
      "text/plain": [
       "Unnamed: 0                 176019\n",
       "PID                        176019\n",
       "CM_ID                      176007\n",
       "GIS_ID                     176009\n",
       "ST_NUM                     176019\n",
       "                            ...  \n",
       "match                      176019\n",
       "lookup                     176019\n",
       "income_restricted_inv      176019\n",
       "existing_affordable_inv    176019\n",
       "Is_Affordable_Master       176019\n",
       "Length: 70, dtype: int64"
      ]
     },
     "execution_count": 9,
     "metadata": {},
     "output_type": "execute_result"
    }
   ],
   "source": [
    "master[master['Is_Affordable_Master'] == False].count()"
   ]
  },
  {
   "cell_type": "code",
   "execution_count": 10,
   "metadata": {},
   "outputs": [
    {
     "data": {
      "image/png": "[encoded data removed]",
      "text/plain": [
       "<Figure size 1000x500 with 1 Axes>"
      ]
     },
     "metadata": {},
     "output_type": "display_data"
    }
   ],
   "source": [
    "import numpy as np\n",
    "import matplotlib.pyplot as plt\n",
    " \n",
    "  \n",
    "# creating the dataset\n",
    "data = {'Affordable/Income Restricted':2579, 'Not Affordable':176019}\n",
    "x = list(data.keys())\n",
    "y = list(data.values())\n",
    "  \n",
    "fig = plt.figure(figsize = (10, 5))\n",
    " \n",
    "# creating the bar plot\n",
    "plt.bar(x, y, color ='maroon',\n",
    "        width = 0.4)\n",
    " \n",
    "plt.xlabel(\"Housing type\")\n",
    "plt.ylabel(\"Number of houses\")\n",
    "plt.title(\"Affordable vs Non Affordable Housing\")\n",
    "plt.show()"
   ]
  },
  {
   "cell_type": "code",
   "execution_count": 11,
   "metadata": {},
   "outputs": [
    {
     "data": {
      "text/plain": [
       "0.014440251290607957"
      ]
     },
     "execution_count": 11,
     "metadata": {},
     "output_type": "execute_result"
    }
   ],
   "source": [
    "2579/(2579 + 176019)"
   ]
  },
  {
   "cell_type": "code",
   "execution_count": 13,
   "metadata": {},
   "outputs": [],
   "source": [
    "toHtml(master.head())"
   ]
  },
  {
   "cell_type": "code",
   "execution_count": 14,
   "metadata": {},
   "outputs": [
    {
     "data": {
      "text/html": [
       "<div>\n",
       "<style scoped>\n",
       "    .dataframe tbody tr th:only-of-type {\n",
       "        vertical-align: middle;\n",
       "    }\n",
       "\n",
       "    .dataframe tbody tr th {\n",
       "        vertical-align: top;\n",
       "    }\n",
       "\n",
       "    .dataframe thead th {\n",
       "        text-align: right;\n",
       "    }\n",
       "</style>\n",
       "<table border=\"1\" class=\"dataframe\">\n",
       "  <thead>\n",
       "    <tr style=\"text-align: right;\">\n",
       "      <th></th>\n",
       "      <th>Unnamed: 0</th>\n",
       "      <th>PID</th>\n",
       "      <th>CM_ID</th>\n",
       "      <th>GIS_ID</th>\n",
       "      <th>ST_NUM</th>\n",
       "      <th>ST_NAME</th>\n",
       "      <th>UNIT_NUM</th>\n",
       "      <th>CITY</th>\n",
       "      <th>ZIPCODE</th>\n",
       "      <th>BLDG_SEQ</th>\n",
       "      <th>...</th>\n",
       "      <th>FIRE_PLACE</th>\n",
       "      <th>ORIENTATION</th>\n",
       "      <th>NUM_PARKING</th>\n",
       "      <th>PROP_VIEW</th>\n",
       "      <th>CORNER_UNIT</th>\n",
       "      <th>match</th>\n",
       "      <th>lookup</th>\n",
       "      <th>income_restricted_inv</th>\n",
       "      <th>existing_affordable_inv</th>\n",
       "      <th>Is_Affordable_Master</th>\n",
       "    </tr>\n",
       "  </thead>\n",
       "  <tbody>\n",
       "    <tr>\n",
       "      <th>0</th>\n",
       "      <td>0</td>\n",
       "      <td>100001000</td>\n",
       "      <td></td>\n",
       "      <td>100001000.0</td>\n",
       "      <td>104 A 104</td>\n",
       "      <td>PUTNAM ST</td>\n",
       "      <td>NaN</td>\n",
       "      <td>EAST BOSTON</td>\n",
       "      <td>2128</td>\n",
       "      <td>1.0</td>\n",
       "      <td>...</td>\n",
       "      <td>0</td>\n",
       "      <td>NaN</td>\n",
       "      <td>3</td>\n",
       "      <td>A - Average</td>\n",
       "      <td>NaN</td>\n",
       "      <td>104 A 104 PUTNAM ST EAST BOSTON</td>\n",
       "      <td>104 A 104 PUTNAM ST, EAST BOSTON, MA 02128</td>\n",
       "      <td>False</td>\n",
       "      <td>False</td>\n",
       "      <td>False</td>\n",
       "    </tr>\n",
       "  </tbody>\n",
       "</table>\n",
       "<p>1 rows × 70 columns</p>\n",
       "</div>"
      ],
      "text/plain": [
       "   Unnamed: 0        PID CM_ID       GIS_ID      ST_NUM    ST_NAME UNIT_NUM  \\\n",
       "0           0  100001000        100001000.0  104 A 104   PUTNAM ST      NaN   \n",
       "\n",
       "          CITY  ZIPCODE  BLDG_SEQ  ...  FIRE_PLACE  ORIENTATION NUM_PARKING  \\\n",
       "0  EAST BOSTON     2128       1.0  ...           0          NaN           3   \n",
       "\n",
       "     PROP_VIEW CORNER_UNIT                            match  \\\n",
       "0  A - Average         NaN  104 A 104 PUTNAM ST EAST BOSTON   \n",
       "\n",
       "                                       lookup income_restricted_inv  \\\n",
       "0  104 A 104 PUTNAM ST, EAST BOSTON, MA 02128                 False   \n",
       "\n",
       "  existing_affordable_inv Is_Affordable_Master  \n",
       "0                   False                False  \n",
       "\n",
       "[1 rows x 70 columns]"
      ]
     },
     "execution_count": 14,
     "metadata": {},
     "output_type": "execute_result"
    }
   ],
   "source": [
    "ownerOccupied = master[master[\"OWN_OCC\"] == 'Y'] \n",
    "ownerOccupied.head(1)"
   ]
  },
  {
   "cell_type": "code",
   "execution_count": 15,
   "metadata": {},
   "outputs": [
    {
     "data": {
      "text/plain": [
       "Unnamed: 0                 78242\n",
       "PID                        78242\n",
       "CM_ID                      78235\n",
       "GIS_ID                     78236\n",
       "ST_NUM                     78242\n",
       "                           ...  \n",
       "match                      78242\n",
       "lookup                     78242\n",
       "income_restricted_inv      78242\n",
       "existing_affordable_inv    78242\n",
       "Is_Affordable_Master       78242\n",
       "Length: 70, dtype: int64"
      ]
     },
     "execution_count": 15,
     "metadata": {},
     "output_type": "execute_result"
    }
   ],
   "source": [
    "ownerOccupied.count()"
   ]
  },
  {
   "cell_type": "markdown",
   "metadata": {},
   "source": [
    "About 78k units are actually owner occupied \n",
    "Lets see how much of that is affordable"
   ]
  },
  {
   "cell_type": "code",
   "execution_count": 20,
   "metadata": {},
   "outputs": [
    {
     "data": {
      "text/plain": [
       "770"
      ]
     },
     "execution_count": 20,
     "metadata": {},
     "output_type": "execute_result"
    }
   ],
   "source": [
    "len(ownerOccupied[ownerOccupied['Is_Affordable_Master'] == True])"
   ]
  },
  {
   "cell_type": "code",
   "execution_count": 19,
   "metadata": {},
   "outputs": [
    {
     "data": {
      "text/plain": [
       "77472"
      ]
     },
     "execution_count": 19,
     "metadata": {},
     "output_type": "execute_result"
    }
   ],
   "source": [
    "len(ownerOccupied[ownerOccupied['Is_Affordable_Master'] == False])"
   ]
  },
  {
   "cell_type": "code",
   "execution_count": 21,
   "metadata": {},
   "outputs": [
    {
     "data": {
      "image/png": "[encoded data removed]",
      "text/plain": [
       "<Figure size 1000x500 with 1 Axes>"
      ]
     },
     "metadata": {},
     "output_type": "display_data"
    }
   ],
   "source": [
    "import numpy as np\n",
    "import matplotlib.pyplot as plt\n",
    " \n",
    "  \n",
    "# creating the dataset\n",
    "data = {'Affordable/Income Restricted':770, 'Not Affordable':77472}\n",
    "x = list(data.keys())\n",
    "y = list(data.values())\n",
    "  \n",
    "fig = plt.figure(figsize = (10, 5))\n",
    " \n",
    "# creating the bar plot\n",
    "plt.bar(x, y, color ='maroon',\n",
    "        width = 0.4)\n",
    " \n",
    "plt.xlabel(\"Housing type\")\n",
    "plt.ylabel(\"Number of houses\")\n",
    "plt.title(\"Affordable vs Non Affordable Housing based on small landlord\")\n",
    "plt.show()"
   ]
  },
  {
   "cell_type": "code",
   "execution_count": 22,
   "metadata": {},
   "outputs": [
    {
     "data": {
      "text/plain": [
       "0.009841261726438486"
      ]
     },
     "execution_count": 22,
     "metadata": {},
     "output_type": "execute_result"
    }
   ],
   "source": [
    "770/(770 + 77472)"
   ]
  },
  {
   "cell_type": "code",
   "execution_count": 24,
   "metadata": {},
   "outputs": [
    {
     "data": {
      "text/html": [
       "<div>\n",
       "<style scoped>\n",
       "    .dataframe tbody tr th:only-of-type {\n",
       "        vertical-align: middle;\n",
       "    }\n",
       "\n",
       "    .dataframe tbody tr th {\n",
       "        vertical-align: top;\n",
       "    }\n",
       "\n",
       "    .dataframe thead th {\n",
       "        text-align: right;\n",
       "    }\n",
       "</style>\n",
       "<table border=\"1\" class=\"dataframe\">\n",
       "  <thead>\n",
       "    <tr style=\"text-align: right;\">\n",
       "      <th></th>\n",
       "      <th>Unnamed: 0</th>\n",
       "      <th>PID</th>\n",
       "      <th>CM_ID</th>\n",
       "      <th>GIS_ID</th>\n",
       "      <th>ST_NUM</th>\n",
       "      <th>ST_NAME</th>\n",
       "      <th>UNIT_NUM</th>\n",
       "      <th>CITY</th>\n",
       "      <th>ZIPCODE</th>\n",
       "      <th>BLDG_SEQ</th>\n",
       "      <th>...</th>\n",
       "      <th>FIRE_PLACE</th>\n",
       "      <th>ORIENTATION</th>\n",
       "      <th>NUM_PARKING</th>\n",
       "      <th>PROP_VIEW</th>\n",
       "      <th>CORNER_UNIT</th>\n",
       "      <th>match</th>\n",
       "      <th>lookup</th>\n",
       "      <th>income_restricted_inv</th>\n",
       "      <th>existing_affordable_inv</th>\n",
       "      <th>Is_Affordable_Master</th>\n",
       "    </tr>\n",
       "  </thead>\n",
       "  <tbody>\n",
       "    <tr>\n",
       "      <th>0</th>\n",
       "      <td>0</td>\n",
       "      <td>100001000</td>\n",
       "      <td></td>\n",
       "      <td>100001000.0</td>\n",
       "      <td>104 A 104</td>\n",
       "      <td>PUTNAM ST</td>\n",
       "      <td>NaN</td>\n",
       "      <td>EAST BOSTON</td>\n",
       "      <td>2128</td>\n",
       "      <td>1.0</td>\n",
       "      <td>...</td>\n",
       "      <td>0</td>\n",
       "      <td>NaN</td>\n",
       "      <td>3</td>\n",
       "      <td>A - Average</td>\n",
       "      <td>NaN</td>\n",
       "      <td>104 A 104 PUTNAM ST EAST BOSTON</td>\n",
       "      <td>104 A 104 PUTNAM ST, EAST BOSTON, MA 02128</td>\n",
       "      <td>False</td>\n",
       "      <td>False</td>\n",
       "      <td>False</td>\n",
       "    </tr>\n",
       "  </tbody>\n",
       "</table>\n",
       "<p>1 rows × 70 columns</p>\n",
       "</div>"
      ],
      "text/plain": [
       "   Unnamed: 0        PID CM_ID       GIS_ID      ST_NUM    ST_NAME UNIT_NUM  \\\n",
       "0           0  100001000        100001000.0  104 A 104   PUTNAM ST      NaN   \n",
       "\n",
       "          CITY  ZIPCODE  BLDG_SEQ  ...  FIRE_PLACE  ORIENTATION NUM_PARKING  \\\n",
       "0  EAST BOSTON     2128       1.0  ...           0          NaN           3   \n",
       "\n",
       "     PROP_VIEW CORNER_UNIT                            match  \\\n",
       "0  A - Average         NaN  104 A 104 PUTNAM ST EAST BOSTON   \n",
       "\n",
       "                                       lookup income_restricted_inv  \\\n",
       "0  104 A 104 PUTNAM ST, EAST BOSTON, MA 02128                 False   \n",
       "\n",
       "  existing_affordable_inv Is_Affordable_Master  \n",
       "0                   False                False  \n",
       "\n",
       "[1 rows x 70 columns]"
      ]
     },
     "execution_count": 24,
     "metadata": {},
     "output_type": "execute_result"
    }
   ],
   "source": [
    "notaffordable = master[master['Is_Affordable_Master'] == False]\n",
    "notaffordable.head(1)"
   ]
  },
  {
   "cell_type": "code",
   "execution_count": 26,
   "metadata": {},
   "outputs": [
    {
     "data": {
      "text/plain": [
       "dtype('int64')"
      ]
     },
     "execution_count": 26,
     "metadata": {},
     "output_type": "execute_result"
    }
   ],
   "source": [
    "notaffordable.ZIPCODE.dtype"
   ]
  },
  {
   "cell_type": "code",
   "execution_count": 27,
   "metadata": {},
   "outputs": [
    {
     "name": "stderr",
     "output_type": "stream",
     "text": [
      "/var/folders/3b/f76j725j65sdr8436v5yf6c40000gn/T/ipykernel_95072/2228605059.py:1: SettingWithCopyWarning: \n",
      "A value is trying to be set on a copy of a slice from a DataFrame.\n",
      "Try using .loc[row_indexer,col_indexer] = value instead\n",
      "\n",
      "See the caveats in the documentation: https://pandas.pydata.org/pandas-docs/stable/user_guide/indexing.html#returning-a-view-versus-a-copy\n",
      "  notaffordable['ZipCodeNum'] = notaffordable['ZIPCODE'].apply(lambda val: '0' + str(val) )\n"
     ]
    },
    {
     "data": {
      "text/html": [
       "<div>\n",
       "<style scoped>\n",
       "    .dataframe tbody tr th:only-of-type {\n",
       "        vertical-align: middle;\n",
       "    }\n",
       "\n",
       "    .dataframe tbody tr th {\n",
       "        vertical-align: top;\n",
       "    }\n",
       "\n",
       "    .dataframe thead th {\n",
       "        text-align: right;\n",
       "    }\n",
       "</style>\n",
       "<table border=\"1\" class=\"dataframe\">\n",
       "  <thead>\n",
       "    <tr style=\"text-align: right;\">\n",
       "      <th></th>\n",
       "      <th>Unnamed: 0</th>\n",
       "      <th>PID</th>\n",
       "      <th>CM_ID</th>\n",
       "      <th>GIS_ID</th>\n",
       "      <th>ST_NUM</th>\n",
       "      <th>ST_NAME</th>\n",
       "      <th>UNIT_NUM</th>\n",
       "      <th>CITY</th>\n",
       "      <th>ZIPCODE</th>\n",
       "      <th>BLDG_SEQ</th>\n",
       "      <th>...</th>\n",
       "      <th>ORIENTATION</th>\n",
       "      <th>NUM_PARKING</th>\n",
       "      <th>PROP_VIEW</th>\n",
       "      <th>CORNER_UNIT</th>\n",
       "      <th>match</th>\n",
       "      <th>lookup</th>\n",
       "      <th>income_restricted_inv</th>\n",
       "      <th>existing_affordable_inv</th>\n",
       "      <th>Is_Affordable_Master</th>\n",
       "      <th>ZipCodeNum</th>\n",
       "    </tr>\n",
       "  </thead>\n",
       "  <tbody>\n",
       "    <tr>\n",
       "      <th>0</th>\n",
       "      <td>0</td>\n",
       "      <td>100001000</td>\n",
       "      <td></td>\n",
       "      <td>100001000.0</td>\n",
       "      <td>104 A 104</td>\n",
       "      <td>PUTNAM ST</td>\n",
       "      <td>NaN</td>\n",
       "      <td>EAST BOSTON</td>\n",
       "      <td>2128</td>\n",
       "      <td>1.0</td>\n",
       "      <td>...</td>\n",
       "      <td>NaN</td>\n",
       "      <td>3</td>\n",
       "      <td>A - Average</td>\n",
       "      <td>NaN</td>\n",
       "      <td>104 A 104 PUTNAM ST EAST BOSTON</td>\n",
       "      <td>104 A 104 PUTNAM ST, EAST BOSTON, MA 02128</td>\n",
       "      <td>False</td>\n",
       "      <td>False</td>\n",
       "      <td>False</td>\n",
       "      <td>02128</td>\n",
       "    </tr>\n",
       "  </tbody>\n",
       "</table>\n",
       "<p>1 rows × 71 columns</p>\n",
       "</div>"
      ],
      "text/plain": [
       "   Unnamed: 0        PID CM_ID       GIS_ID      ST_NUM    ST_NAME UNIT_NUM  \\\n",
       "0           0  100001000        100001000.0  104 A 104   PUTNAM ST      NaN   \n",
       "\n",
       "          CITY  ZIPCODE  BLDG_SEQ  ...  ORIENTATION  NUM_PARKING    PROP_VIEW  \\\n",
       "0  EAST BOSTON     2128       1.0  ...          NaN            3  A - Average   \n",
       "\n",
       "  CORNER_UNIT                            match  \\\n",
       "0         NaN  104 A 104 PUTNAM ST EAST BOSTON   \n",
       "\n",
       "                                       lookup income_restricted_inv  \\\n",
       "0  104 A 104 PUTNAM ST, EAST BOSTON, MA 02128                 False   \n",
       "\n",
       "  existing_affordable_inv Is_Affordable_Master ZipCodeNum  \n",
       "0                   False                False      02128  \n",
       "\n",
       "[1 rows x 71 columns]"
      ]
     },
     "execution_count": 27,
     "metadata": {},
     "output_type": "execute_result"
    }
   ],
   "source": [
    "notaffordable['ZipCodeNum'] = notaffordable['ZIPCODE'].apply(lambda val: '0' + str(val) )\n",
    "notaffordable.head(1)"
   ]
  },
  {
   "cell_type": "code",
   "execution_count": 28,
   "metadata": {},
   "outputs": [
    {
     "name": "stdout",
     "output_type": "stream",
     "text": [
      "Amount of houses in  Zip Code of 02026 : 6\n",
      "Amount of houses in  Zip Code of 02108 : 1953\n",
      "Amount of houses in  Zip Code of 02109 : 1847\n",
      "Amount of houses in  Zip Code of 02110 : 2457\n",
      "Amount of houses in  Zip Code of 02111 : 2698\n",
      "Amount of houses in  Zip Code of 02113 : 2258\n",
      "Amount of houses in  Zip Code of 02114 : 5176\n",
      "Amount of houses in  Zip Code of 02115 : 5068\n",
      "Amount of houses in  Zip Code of 02116 : 9238\n",
      "Amount of houses in  Zip Code of 02118 : 8148\n",
      "Amount of houses in  Zip Code of 02119 : 6012\n",
      "Amount of houses in  Zip Code of 02120 : 1865\n",
      "Amount of houses in  Zip Code of 02121 : 4264\n",
      "Amount of houses in  Zip Code of 02122 : 6207\n",
      "Amount of houses in  Zip Code of 02124 : 11033\n",
      "Amount of houses in  Zip Code of 02125 : 7675\n",
      "Amount of houses in  Zip Code of 02126 : 4826\n",
      "Amount of houses in  Zip Code of 02127 : 15227\n",
      "Amount of houses in  Zip Code of 02128 : 9298\n",
      "Amount of houses in  Zip Code of 02129 : 7189\n",
      "Amount of houses in  Zip Code of 02130 : 11795\n",
      "Amount of houses in  Zip Code of 02131 : 9121\n",
      "Amount of houses in  Zip Code of 02132 : 10957\n",
      "Amount of houses in  Zip Code of 02133 : 1\n",
      "Amount of houses in  Zip Code of 02134 : 4247\n",
      "Amount of houses in  Zip Code of 02135 : 11733\n",
      "Amount of houses in  Zip Code of 02136 : 9190\n",
      "Amount of houses in  Zip Code of 02137 : 1\n",
      "Amount of houses in  Zip Code of 02199 : 19\n",
      "Amount of houses in  Zip Code of 02201 : 3\n",
      "Amount of houses in  Zip Code of 02210 : 1967\n",
      "Amount of houses in  Zip Code of 02215 : 3497\n",
      "Amount of houses in  Zip Code of 02219 : 1\n",
      "Amount of houses in  Zip Code of 02445 : 13\n",
      "Amount of houses in  Zip Code of 02446 : 11\n",
      "Amount of houses in  Zip Code of 02458 : 1\n",
      "Amount of houses in  Zip Code of 02467 : 1017\n"
     ]
    },
    {
     "data": {
      "image/png": "[encoded data removed]",
      "text/plain": [
       "<Figure size 1000x500 with 1 Axes>"
      ]
     },
     "metadata": {},
     "output_type": "display_data"
    }
   ],
   "source": [
    "groupZips = notaffordable.groupby('ZipCodeNum')\n",
    "#creates subdata frames using group by \n",
    "groupKeys = list(groupZips.groups.keys()) #list Note the gorup keys are strings\n",
    "\n",
    "dfDict = {'zipCode':[],'totalUnits':[],'Projects':[]}\n",
    "d = {}\n",
    "for i in groupKeys:\n",
    "    groupDf = groupZips.get_group(i)\n",
    "    d[i] = len(groupDf)\n",
    "    #3 lines below help create the dict that will be used to create simple dataFrame\n",
    "    # dfDict['zipCode'].append(i)\n",
    "    # dfDict['totalUnits'].append(groupDf['TtlProjUnits'].sum())\n",
    "    print(\"Amount of houses in  Zip Code of \" + i + \" : \" + str(len(groupDf)))\n",
    "\n",
    "\n",
    "types = list(d.keys())\n",
    "values = list(d.values())\n",
    "  \n",
    "fig = plt.figure(figsize = (10, 5))\n",
    " \n",
    "# creating the bar plot\n",
    "plt.bar(types, values, color ='maroon')\n",
    " \n",
    "plt.xlabel(\"Zip Code\")\n",
    "plt.ylabel(\"Number of Houses\")\n",
    "plt.title(\"Number of Non-Affordable units per Zip Code in Boston\")\n",
    "plt.xticks(rotation=90)\n",
    "plt.show()\n"
   ]
  },
  {
   "cell_type": "code",
   "execution_count": null,
   "metadata": {},
   "outputs": [],
   "source": []
  }
 ],
 "metadata": {
  "kernelspec": {
   "display_name": "Python 3.9.1 64-bit",
   "language": "python",
   "name": "python3"
  },
  "language_info": {
   "codemirror_mode": {
    "name": "ipython",
    "version": 3
   },
   "file_extension": ".py",
   "mimetype": "text/x-python",
   "name": "python",
   "nbconvert_exporter": "python",
   "pygments_lexer": "ipython3",
   "version": "3.9.1"
  },
  "orig_nbformat": 4,
  "vscode": {
   "interpreter": {
    "hash": "aee8b7b246df8f9039afb4144a1f6fd8d2ca17a180786b69acc140d282b71a49"
   }
  }
 },
 "nbformat": 4,
 "nbformat_minor": 2
}
